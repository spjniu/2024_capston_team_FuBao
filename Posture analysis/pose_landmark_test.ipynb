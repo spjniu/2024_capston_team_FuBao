{
 "cells": [
  {
   "cell_type": "code",
   "execution_count": 2,
   "metadata": {},
   "outputs": [],
   "source": [
    "import cv2\n",
    "import mediapipe as mp\n",
    "\n",
    "# MediaPipe 초기화\n",
    "mp_pose = mp.solutions.pose\n",
    "pose = mp_pose.Pose()\n",
    "mp_drawing = mp.solutions.drawing_utils\n",
    "\n",
    "# 얼굴 랜드마크를 제외한 전신 랜드마크 연결\n",
    "POSE_CONNECTIONS_NO_FACE = [\n",
    "    (11, 12), (12, 14), (14, 16), (16, 20), (20, 18), (18, 16), (11, 13), (13, 15), (15, 19), (19, 17), (17, 15), \n",
    "    (11, 23), (12, 24), (23, 24), (23, 25), (24, 26), (25, 27), (26, 28), (27, 29), (28, 30), (29, 31), (30, 32)\n",
    "]\n",
    "\n",
    "# 웹캠에서 영상 받아오기\n",
    "cap = cv2.VideoCapture(0)\n",
    "\n",
    "while cap.isOpened():\n",
    "    success, image = cap.read()\n",
    "    if not success:\n",
    "        break\n",
    "\n",
    "    # 이미지를 RGB로 변환\n",
    "    image = cv2.cvtColor(image, cv2.COLOR_BGR2RGB)\n",
    "\n",
    "    # 포즈 인식\n",
    "    results = pose.process(image)\n",
    "\n",
    "    # 이미지를 다시 BGR로 변환 (cv2에서 출력하기 위해)\n",
    "    image = cv2.cvtColor(image, cv2.COLOR_RGB2BGR)\n",
    "\n",
    "    if results.pose_landmarks:\n",
    "        # 얼굴 랜드마크 제외한 랜드마크 그리기\n",
    "        for idx, landmark in enumerate(results.pose_landmarks.landmark):\n",
    "            if idx > 10:  # 0-10번 랜드마크는 얼굴에 해당하므로 제외\n",
    "                h, w, _ = image.shape\n",
    "                cx, cy = int(landmark.x * w), int(landmark.y * h)\n",
    "                cv2.circle(image, (cx, cy), 5, (0, 255, 0), cv2.FILLED)\n",
    "        \n",
    "        # 얼굴 랜드마크 제외한 연결 그리기\n",
    "        for connection in POSE_CONNECTIONS_NO_FACE:\n",
    "            start_idx, end_idx = connection\n",
    "            start_landmark = results.pose_landmarks.landmark[start_idx]\n",
    "            end_landmark = results.pose_landmarks.landmark[end_idx]\n",
    "            start_coords = (int(start_landmark.x * w), int(start_landmark.y * h))\n",
    "            end_coords = (int(end_landmark.x * w), int(end_landmark.y * h))\n",
    "            cv2.line(image, start_coords, end_coords, (0, 255, 0), 2)\n",
    "\n",
    "    cv2.imshow('Pose Estimation', image)\n",
    "\n",
    "    if cv2.waitKey(5) & 0xFF == 27:  # ESC 키를 누르면 종료\n",
    "        break\n",
    "\n",
    "cap.release()\n",
    "cv2.destroyAllWindows()\n"
   ]
  }
 ],
 "metadata": {
  "kernelspec": {
   "display_name": "Python 3",
   "language": "python",
   "name": "python3"
  },
  "language_info": {
   "codemirror_mode": {
    "name": "ipython",
    "version": 3
   },
   "file_extension": ".py",
   "mimetype": "text/x-python",
   "name": "python",
   "nbconvert_exporter": "python",
   "pygments_lexer": "ipython3",
   "version": "3.9.0"
  }
 },
 "nbformat": 4,
 "nbformat_minor": 2
}
